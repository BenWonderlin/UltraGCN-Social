{
 "cells": [
  {
   "cell_type": "code",
   "execution_count": 19,
   "metadata": {},
   "outputs": [],
   "source": [
    "import numpy as np"
   ]
  },
  {
   "cell_type": "code",
   "execution_count": 20,
   "metadata": {},
   "outputs": [],
   "source": [
    "def parse_txt_to_adj_list(path):\n",
    "\n",
    "    raw_arr = np.loadtxt(path, skiprows = 1, delimiter = \",\")\n",
    "    adj_list = { e[0] : [] for e in raw_arr }\n",
    "    seen_edges = set()\n",
    "\n",
    "    for e in raw_arr:\n",
    "        t = tuple(e)\n",
    "        if t not in seen_edges:\n",
    "            adj_list[e[0]].append(e[1])\n",
    "            seen_edges.add(t)\n",
    "\n",
    "    return adj_list"
   ]
  },
  {
   "cell_type": "code",
   "execution_count": 21,
   "metadata": {},
   "outputs": [],
   "source": [
    "def write_adj_list_to_txt(path, adj_list):\n",
    "\n",
    "    with open(path, 'a') as res_file:\n",
    "        for key in sorted(adj_list.keys()):\n",
    "            res_file.write(f\"{int(key)} \")\n",
    "            for elt in sorted(adj_list[key]):\n",
    "                res_file.write(f\"{int(elt)} \")\n",
    "            res_file.write(\"\\n\")\n",
    "\n",
    "    return"
   ]
  },
  {
   "cell_type": "code",
   "execution_count": 22,
   "metadata": {},
   "outputs": [],
   "source": [
    "adj_list = parse_txt_to_adj_list(\"SocialLGN/train_set.txt\")\n",
    "write_adj_list_to_txt(\"train.txt\", adj_list)\n",
    "\n",
    "adj_list = parse_txt_to_adj_list(\"SocialLGN/test_set.txt\")\n",
    "write_adj_list_to_txt(\"test.txt\", adj_list)\n",
    "\n",
    "adj_list = parse_txt_to_adj_list(\"SocialLGN/trust.txt\")\n",
    "write_adj_list_to_txt(\"trust.txt\", adj_list)"
   ]
  }
 ],
 "metadata": {
  "kernelspec": {
   "display_name": "graphs_final",
   "language": "python",
   "name": "python3"
  },
  "language_info": {
   "codemirror_mode": {
    "name": "ipython",
    "version": 3
   },
   "file_extension": ".py",
   "mimetype": "text/x-python",
   "name": "python",
   "nbconvert_exporter": "python",
   "pygments_lexer": "ipython3",
   "version": "3.7.9"
  },
  "orig_nbformat": 4
 },
 "nbformat": 4,
 "nbformat_minor": 2
}
